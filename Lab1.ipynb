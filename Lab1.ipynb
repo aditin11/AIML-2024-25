{
 "cells": [
  {
   "cell_type": "markdown",
   "id": "affc4663-b241-4e7e-a0e8-28705fac2a58",
   "metadata": {},
   "source": [
    "## LAB 01 - Implementation basic structures of Numpy,Pandas,Matplotlib Sources"
   ]
  },
  {
   "cell_type": "code",
   "execution_count": 1,
   "id": "3ec2fe17-3fcb-4f50-b0a6-5c055bffe4dd",
   "metadata": {},
   "outputs": [
    {
     "data": {
      "text/plain": [
       "array([1, 2, 3])"
      ]
     },
     "execution_count": 1,
     "metadata": {},
     "output_type": "execute_result"
    }
   ],
   "source": [
    "import numpy as np\n",
    "lst1=[1,2,3]\n",
    "array1 = np.array(lst1)\n",
    "array1\n"
   ]
  },
  {
   "cell_type": "code",
   "execution_count": 2,
   "id": "bba3c53c-cde2-4c11-8919-951644f594c7",
   "metadata": {},
   "outputs": [
    {
     "data": {
      "text/plain": [
       "list"
      ]
     },
     "execution_count": 2,
     "metadata": {},
     "output_type": "execute_result"
    }
   ],
   "source": [
    "type(lst1)\n"
   ]
  },
  {
   "cell_type": "code",
   "execution_count": 3,
   "id": "656c0180-13a4-4064-9112-d0f4a5267db1",
   "metadata": {},
   "outputs": [
    {
     "data": {
      "text/plain": [
       "numpy.ndarray"
      ]
     },
     "execution_count": 3,
     "metadata": {},
     "output_type": "execute_result"
    }
   ],
   "source": [
    "type(array1)"
   ]
  },
  {
   "cell_type": "code",
   "execution_count": 4,
   "id": "d19a044e-d626-490b-a296-0cd72d98a9c2",
   "metadata": {},
   "outputs": [
    {
     "name": "stdout",
     "output_type": "stream",
     "text": [
      "list =  [1, 2, 3]\n",
      "array =  [1 2 3]\n"
     ]
    }
   ],
   "source": [
    "import  numpy as np\n",
    "lst1=[1,2,3]\n",
    "array1=np.array(lst1)\n",
    "print(\"list = \",lst1)\n",
    "print(\"array = \",array1)"
   ]
  },
  {
   "cell_type": "code",
   "execution_count": 5,
   "id": "793f79f5-0e1d-418e-9d5f-de3815ea522f",
   "metadata": {},
   "outputs": [
    {
     "name": "stdout",
     "output_type": "stream",
     "text": [
      "list =  [1, 2, 3]\n",
      "array =  [1 2 3]\n",
      "1\n"
     ]
    }
   ],
   "source": [
    "import numpy as np\n",
    "lst1=[1,2,3]\n",
    "array1=np.array(lst1)\n",
    "print(\"list = \",lst1)\n",
    "print(\"array = \",array1)\n",
    "type(lst1)\n",
    "type(array1)\n",
    "print(array1.ndim)"
   ]
  },
  {
   "cell_type": "code",
   "execution_count": 6,
   "id": "d479d091-91bf-46d3-b4eb-af4ff708e309",
   "metadata": {},
   "outputs": [
    {
     "name": "stdout",
     "output_type": "stream",
     "text": [
      "array multiplied by array1: [20 40 60]\n",
      "array division  by array1: [0.2        0.1        0.06666667]\n",
      "array raised to the power of array1: [ 8 22 28]\n"
     ]
    }
   ],
   "source": [
    "import numpy as np\n",
    "array1=np.array([10,20,30])\n",
    "array2=np.array([2,2,2])\n",
    "print(\"array multiplied by array1:\",array1*array2)\n",
    "print(\"array division  by array1:\",array2/array1)\n",
    "print(\"array raised to the power of array1:\",array2^array1)"
   ]
  },
  {
   "cell_type": "code",
   "execution_count": 7,
   "id": "298159b2-cc33-4043-be83-62e48f05d4da",
   "metadata": {},
   "outputs": [
    {
     "name": "stdout",
     "output_type": "stream",
     "text": [
      "Addition of Two:  [12 22 32]\n",
      "sr sumathi reddy\n"
     ]
    }
   ],
   "source": [
    "import numpy as np\n",
    "array1 = np.array([10,20,30])\n",
    "array2 = np.array([2,2,2])\n",
    "addition = array1 + array2\n",
    "text1 = \"sr\"\n",
    "text2 = \"sumathi reddy\"\n",
    "combined_text = text1 + \" \" + text2\n",
    "\n",
    "print(\"Addition of Two: \", addition)\n",
    "print(combined_text)\n"
   ]
  },
  {
   "cell_type": "code",
   "execution_count": 8,
   "id": "0608776e-b352-47e2-a42a-ca45e2fa2ddd",
   "metadata": {},
   "outputs": [
    {
     "name": "stdout",
     "output_type": "stream",
     "text": [
      "sine:. [2.30258509 2.99573227 3.40119738]\n",
      "natural logarithm:  [2.30258509 2.99573227 3.40119738]\n",
      "base-10 logarithm:  [1.         1.30103    1.47712125]\n",
      "base-2 logarithm:  [3.32192809 4.32192809 4.9068906 ]\n",
      "exponential:  [2.20264658e+04 4.85165195e+08 1.06864746e+13]\n"
     ]
    }
   ],
   "source": [
    "import numpy as np\n",
    "array1=np.array([10,20,30])\n",
    "#sine function\n",
    "print(\"sine:.\",np.log(array1))\n",
    "#logarithm\n",
    "print(\"natural logarithm: \",np.log(array1))\n",
    "print(\"base-10 logarithm: \",np.log10(array1))\n",
    "print(\"base-2 logarithm: \",np.log2(array1))\n",
    "#exponential\n",
    "print(\"exponential: \",np.exp(array1))"
   ]
  },
  {
   "cell_type": "code",
   "execution_count": 9,
   "id": "c7aa40ad-ebaa-4574-9bc9-7c33e4206081",
   "metadata": {},
   "outputs": [
    {
     "data": {
      "text/plain": [
       "array([3, 2, 1])"
      ]
     },
     "execution_count": 9,
     "metadata": {},
     "output_type": "execute_result"
    }
   ],
   "source": [
    "list2=[3,2,1]\n",
    "array2=np.array(list2)\n",
    "array2"
   ]
  },
  {
   "cell_type": "code",
   "execution_count": 10,
   "id": "0b657e4f-ffc9-462a-8602-5b9998ce465b",
   "metadata": {},
   "outputs": [
    {
     "name": "stdout",
     "output_type": "stream",
     "text": [
      "array multiplied by array1: [30 40 30]\n",
      "array division  by array1: [0.3        0.1        0.03333333]\n",
      "array raised to the power of array1: [ 9 22 31]\n",
      "  [3 2 1] raised to the power of [10 20 30]:,[  59049 1048576       1]\n"
     ]
    }
   ],
   "source": [
    "print(\"array multiplied by array1:\",array1*array2)\n",
    "print(\"array division  by array1:\",array2/array1)\n",
    "print(\"array raised to the power of array1:\",array2^array1)\n",
    "print(f\"  {array2} raised to the power of {array1}:,{array2**array1}\")"
   ]
  },
  {
   "cell_type": "code",
   "execution_count": 11,
   "id": "efe0e21d-f25c-4489-913f-dd92d18abeef",
   "metadata": {},
   "outputs": [],
   "source": [
    "people = ['Aditi','Arshiya','Saba','Vasavi','Sumayya']\n",
    "age = [18,19,20,18,18]\n",
    "weight = [56,48,45,60,55]\n",
    "height = [170,168,163,160,168]"
   ]
  },
  {
   "cell_type": "code",
   "execution_count": 15,
   "id": "1209c654-ae36-47e3-908d-654670b7569f",
   "metadata": {},
   "outputs": [],
   "source": [
    "import matplotlib.pyplot as plt\n"
   ]
  },
  {
   "cell_type": "code",
   "execution_count": 16,
   "id": "dc93326c-ad80-47ef-9a15-4a6f2982adba",
   "metadata": {},
   "outputs": [
    {
     "ename": "AttributeError",
     "evalue": "module 'matplotlib.pyplot' has no attribute 'ylable'",
     "output_type": "error",
     "traceback": [
      "\u001b[1;31m---------------------------------------------------------------------------\u001b[0m",
      "\u001b[1;31mAttributeError\u001b[0m                            Traceback (most recent call last)",
      "Cell \u001b[1;32mIn[16], line 3\u001b[0m\n\u001b[0;32m      1\u001b[0m plt\u001b[38;5;241m.\u001b[39mscatter(weight, height)\n\u001b[0;32m      2\u001b[0m plt\u001b[38;5;241m.\u001b[39mtitle(\u001b[38;5;124m\"\u001b[39m\u001b[38;5;124mRelationship between Weight and Height of Patients\u001b[39m\u001b[38;5;124m\"\u001b[39m)\n\u001b[1;32m----> 3\u001b[0m \u001b[43mplt\u001b[49m\u001b[38;5;241;43m.\u001b[39;49m\u001b[43mylable\u001b[49m(\u001b[38;5;124m\"\u001b[39m\u001b[38;5;124mHeight in meters\u001b[39m\u001b[38;5;124m\"\u001b[39m)\n\u001b[0;32m      4\u001b[0m plt\u001b[38;5;241m.\u001b[39mxlable(\u001b[38;5;124m\"\u001b[39m\u001b[38;5;124mWeight in kgs\u001b[39m\u001b[38;5;124m\"\u001b[39m)\n\u001b[0;32m      5\u001b[0m plt\u001b[38;5;241m.\u001b[39mshow()\n",
      "\u001b[1;31mAttributeError\u001b[0m: module 'matplotlib.pyplot' has no attribute 'ylable'"
     ]
    },
    {
     "data": {
      "image/png": "[encoded data removed]",
      "text/plain": [
       "<Figure size 640x480 with 1 Axes>"
      ]
     },
     "metadata": {},
     "output_type": "display_data"
    }
   ],
   "source": [
    "plt.scatter(weight, height)\n",
    "plt.title(\"Relationship between Weight and Height of Patients\")\n",
    "plt.ylable(\"Height in meters\")\n",
    "plt.xlable(\"Weight in kgs\")\n",
    "plt.show()"
   ]
  },
  {
   "cell_type": "code",
   "execution_count": 17,
   "id": "88a2e788-b9aa-4bd9-aca6-b679974fba9b",
   "metadata": {},
   "outputs": [
    {
     "ename": "NameError",
     "evalue": "name 'p' is not defined",
     "output_type": "error",
     "traceback": [
      "\u001b[1;31m---------------------------------------------------------------------------\u001b[0m",
      "\u001b[1;31mNameError\u001b[0m                                 Traceback (most recent call last)",
      "Cell \u001b[1;32mIn[17], line 4\u001b[0m\n\u001b[0;32m      2\u001b[0m plt\u001b[38;5;241m.\u001b[39mtitle(\u001b[38;5;124m\"\u001b[39m\u001b[38;5;124mPeople\u001b[39m\u001b[38;5;124m'\u001b[39m\u001b[38;5;124ms weight in kgs\u001b[39m\u001b[38;5;124m\"\u001b[39m,fontsize\u001b[38;5;241m=\u001b[39m\u001b[38;5;241m16\u001b[39m, fontstyle\u001b[38;5;241m=\u001b[39m\u001b[38;5;124m'\u001b[39m\u001b[38;5;124mitalic\u001b[39m\u001b[38;5;124m'\u001b[39m)\n\u001b[0;32m      3\u001b[0m plt\u001b[38;5;241m.\u001b[39mbar(x\u001b[38;5;241m=\u001b[39mpeople,height\u001b[38;5;241m=\u001b[39mweight,width\u001b[38;5;241m=\u001b[39m\u001b[38;5;241m0.6\u001b[39m,color\u001b[38;5;241m=\u001b[39m\u001b[38;5;124m'\u001b[39m\u001b[38;5;124morange\u001b[39m\u001b[38;5;124m'\u001b[39m,edgecolor\u001b[38;5;241m=\u001b[39m\u001b[38;5;124m'\u001b[39m\u001b[38;5;124mk\u001b[39m\u001b[38;5;124m'\u001b[39m,alpha\u001b[38;5;241m=\u001b[39m\u001b[38;5;241m0.6\u001b[39m)\n\u001b[1;32m----> 4\u001b[0m \u001b[43mp\u001b[49m\u001b[38;5;241m.\u001b[39mxlable(\u001b[38;5;124m\"\u001b[39m\u001b[38;5;124mpeople\u001b[39m\u001b[38;5;124m\"\u001b[39m,fontsize\u001b[38;5;241m=\u001b[39m\u001b[38;5;241m15\u001b[39m)\n\u001b[0;32m      5\u001b[0m p\u001b[38;5;241m.\u001b[39mylable(\u001b[38;5;124m\"\u001b[39m\u001b[38;5;124mweight (in kgs)\u001b[39m\u001b[38;5;124m\"\u001b[39m,fontsize\u001b[38;5;241m=\u001b[39m\u001b[38;5;241m15\u001b[39m)\n\u001b[0;32m      6\u001b[0m plt\u001b[38;5;241m.\u001b[39mshow()\n",
      "\u001b[1;31mNameError\u001b[0m: name 'p' is not defined"
     ]
    },
    {
     "data": {
      "image/png": "[encoded data removed]",
      "text/plain": [
       "<Figure size 1200x400 with 1 Axes>"
      ]
     },
     "metadata": {},
     "output_type": "display_data"
    }
   ],
   "source": [
    "plt.figure(figsize=(12,4))\n",
    "plt.title(\"People's weight in kgs\",fontsize=16, fontstyle='italic')\n",
    "plt.bar(x=people,height=weight,width=0.6,color='orange',edgecolor='k',alpha=0.6)\n",
    "p.xlable(\"people\",fontsize=15)\n",
    "p.ylable(\"weight (in kgs)\",fontsize=15)\n",
    "plt.show()"
   ]
  }
 ],
 "metadata": {
  "kernelspec": {
   "display_name": "Python 3 (ipykernel)",
   "language": "python",
   "name": "python3"
  },
  "language_info": {
   "codemirror_mode": {
    "name": "ipython",
    "version": 3
   },
   "file_extension": ".py",
   "mimetype": "text/x-python",
   "name": "python",
   "nbconvert_exporter": "python",
   "pygments_lexer": "ipython3",
   "version": "3.10.9"
  }
 },
 "nbformat": 4,
 "nbformat_minor": 5
}
